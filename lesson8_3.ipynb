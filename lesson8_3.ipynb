{
 "cells": [
  {
   "cell_type": "code",
   "execution_count": 1,
   "metadata": {},
   "outputs": [
    {
     "data": {
      "text/plain": [
       "[78, 92, 85, 64, 92]"
      ]
     },
     "execution_count": 1,
     "metadata": {},
     "output_type": "execute_result"
    }
   ],
   "source": [
    "stu1 = [78, 92, 85, 64, 92]\n",
    "stu1"
   ]
  },
  {
   "cell_type": "code",
   "execution_count": 2,
   "metadata": {},
   "outputs": [
    {
     "data": {
      "text/plain": [
       "[97, 55, 73, 84, 51]"
      ]
     },
     "execution_count": 2,
     "metadata": {},
     "output_type": "execute_result"
    }
   ],
   "source": [
    "import random\n",
    "\n",
    "stu2 = []\n",
    "for _ in range(5):\n",
    "    stu2.append(random.randint(50,100))\n",
    "stu2"
   ]
  },
  {
   "cell_type": "code",
   "execution_count": 3,
   "metadata": {},
   "outputs": [
    {
     "data": {
      "text/plain": [
       "[87, 52, 98, 50, 77]"
      ]
     },
     "execution_count": 3,
     "metadata": {},
     "output_type": "execute_result"
    }
   ],
   "source": [
    "import random\n",
    "\n",
    "def generate_stu():\n",
    "    scores = []\n",
    "    for _ in range(5):\n",
    "        scores.append(random.randint(50,100))\n",
    "    return scores\n",
    "\n",
    "generate_stu()"
   ]
  },
  {
   "cell_type": "code",
   "execution_count": 5,
   "metadata": {},
   "outputs": [
    {
     "name": "stdout",
     "output_type": "stream",
     "text": [
      "[[72, 81, 60, 83, 58], [98, 73, 58, 66, 58], [87, 87, 56, 89, 72], [83, 95, 94, 98, 64], [65, 77, 54, 87, 59], [78, 98, 95, 88, 56]]\n"
     ]
    }
   ],
   "source": [
    "#建立50個學生\n",
    "while True:\n",
    "    try:\n",
    "        num = int(input('請輸入學生的人數:'))\n",
    "    except:\n",
    "        print(\"格式錯誤\")\n",
    "    else:\n",
    "        if not (num >= 5 and num <= 50):\n",
    "            continue\n",
    "        \n",
    "        students = []\n",
    "        for _ in range(num):\n",
    "            scores =  generate_stu()\n",
    "            students.append(scores)\n",
    "\n",
    "        print(students)\n",
    "        break"
   ]
  },
  {
   "cell_type": "code",
   "execution_count": 7,
   "metadata": {},
   "outputs": [
    {
     "name": "stdout",
     "output_type": "stream",
     "text": [
      "請輸入學生的人數:"
     ]
    },
    {
     "data": {
      "text/plain": [
       "[[57, 95, 62, 60, 76],\n",
       " [58, 94, 86, 79, 90],\n",
       " [97, 88, 55, 52, 86],\n",
       " [58, 83, 75, 71, 87],\n",
       " [50, 56, 80, 71, 53],\n",
       " [90, 54, 51, 81, 75],\n",
       " [85, 54, 61, 88, 51],\n",
       " [90, 54, 61, 78, 69],\n",
       " [50, 67, 71, 89, 92],\n",
       " [50, 75, 56, 80, 59],\n",
       " [100, 61, 68, 75, 54],\n",
       " [71, 83, 96, 58, 99],\n",
       " [57, 99, 67, 88, 85],\n",
       " [52, 71, 91, 86, 56],\n",
       " [88, 100, 97, 96, 60],\n",
       " [100, 87, 90, 55, 64]]"
      ]
     },
     "execution_count": 7,
     "metadata": {},
     "output_type": "execute_result"
    }
   ],
   "source": [
    "import pyinputplus as pyip\n",
    "\n",
    "num = pyip.inputInt('請輸入學生的人數:',min=5,max=50)\n",
    "students = []\n",
    "for _ in range(num):\n",
    "    scores =  generate_stu()\n",
    "    students.append(scores)\n",
    "\n",
    "students"
   ]
  }
 ],
 "metadata": {
  "kernelspec": {
   "display_name": "Python 3",
   "language": "python",
   "name": "python3"
  },
  "language_info": {
   "codemirror_mode": {
    "name": "ipython",
    "version": 3
   },
   "file_extension": ".py",
   "mimetype": "text/x-python",
   "name": "python",
   "nbconvert_exporter": "python",
   "pygments_lexer": "ipython3",
   "version": "3.10.12"
  },
  "orig_nbformat": 4
 },
 "nbformat": 4,
 "nbformat_minor": 2
}
