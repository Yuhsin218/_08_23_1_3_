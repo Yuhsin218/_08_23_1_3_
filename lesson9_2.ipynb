{
 "cells": [
  {
   "cell_type": "code",
   "execution_count": 7,
   "metadata": {},
   "outputs": [
    {
     "name": "stdout",
     "output_type": "stream",
     "text": [
      "請輸入要取得的名字數量：5\n"
     ]
    },
    {
     "data": {
      "text/plain": [
       "['陳怡珊', '溫重意', '陳怡珊', '羅佩樺', '張彥博']"
      ]
     },
     "execution_count": 7,
     "metadata": {},
     "output_type": "execute_result"
    }
   ],
   "source": [
    "file = open(\"names.txt\",encoding=\"utf-8\")\n",
    "file.close()\n",
    "\n",
    "import pyinputplus as pyip\n",
    "import random\n",
    "\n",
    "with open(\"names.txt\",encoding=\"utf-8\") as file:\n",
    "    names = []\n",
    "    for name in file:\n",
    "        names.append(name.rstrip())\n",
    "\n",
    "num = pyip.inputInt(\"請輸入要取得的名字數量：\",min=0,max=50)\n",
    "print(num)\n",
    "random.choices(names,k=num)"
   ]
  },
  {
   "cell_type": "code",
   "execution_count": 9,
   "metadata": {},
   "outputs": [
    {
     "name": "stdout",
     "output_type": "stream",
     "text": [
      "請輸入要取得的名字數量："
     ]
    },
    {
     "data": {
      "text/plain": [
       "['潘英迪', '林志成', '柯韋成', '黃雅慧', '林益妏']"
      ]
     },
     "execution_count": 9,
     "metadata": {},
     "output_type": "execute_result"
    }
   ],
   "source": [
    "import pyinputplus as pyip\n",
    "import random\n",
    "\n",
    "def getnames(num:int) -> list[str]:\n",
    "    with open(\"names.txt\",encoding=\"utf-8\") as file:\n",
    "        names = []\n",
    "        for name in file:\n",
    "            names.append(name.rstrip())\n",
    "    return random.choices(names,k=num)\n",
    "\n",
    "n = pyip.inputInt(\"請輸入要取得的名字數量：\",min=0,max=50)\n",
    "getnames(num=n)"
   ]
  }
 ],
 "metadata": {
  "kernelspec": {
   "display_name": "Python 3",
   "language": "python",
   "name": "python3"
  },
  "language_info": {
   "codemirror_mode": {
    "name": "ipython",
    "version": 3
   },
   "file_extension": ".py",
   "mimetype": "text/x-python",
   "name": "python",
   "nbconvert_exporter": "python",
   "pygments_lexer": "ipython3",
   "version": "3.10.12"
  },
  "orig_nbformat": 4
 },
 "nbformat": 4,
 "nbformat_minor": 2
}
